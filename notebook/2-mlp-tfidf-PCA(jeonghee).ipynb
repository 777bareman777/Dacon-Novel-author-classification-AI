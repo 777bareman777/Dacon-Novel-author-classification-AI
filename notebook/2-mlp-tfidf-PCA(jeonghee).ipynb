{
 "cells": [
  {
   "cell_type": "markdown",
   "metadata": {},
   "source": [
    "## 라이브러리 import 및 설정"
   ]
  },
  {
   "cell_type": "code",
   "execution_count": 1,
   "metadata": {
    "ExecuteTime": {
     "end_time": "2020-11-09T04:32:22.350713Z",
     "start_time": "2020-11-09T04:32:22.049823Z"
    }
   },
   "outputs": [],
   "source": [
    "%reload_ext autoreload\n",
    "%autoreload 2\n",
    "%matplotlib inline"
   ]
  },
  {
   "cell_type": "code",
   "execution_count": 2,
   "metadata": {
    "ExecuteTime": {
     "end_time": "2020-11-09T04:32:23.188282Z",
     "start_time": "2020-11-09T04:32:22.352714Z"
    }
   },
   "outputs": [],
   "source": [
    "import gc\n",
    "from tensorflow.keras.backend import clear_session\n",
    "\n",
    "import numpy as np\n",
    "import pandas as pd\n",
    "\n",
    "from sklearn.linear_model import LogisticRegression\n",
    "from sklearn.metrics import accuracy_score, log_loss\n",
    "from sklearn.model_selection import StratifiedKFold\n",
    "from sklearn.feature_extraction.text import TfidfVectorizer\n",
    "\n",
    "from nltk.corpus import stopwords\n",
    "\n",
    "from pathlib import Path\n",
    "\n",
    "import tensorflow as tf\n",
    "from tensorflow.keras import Input, Model, Sequential\n",
    "from tensorflow.keras.layers import Dense, Embedding, GlobalMaxPooling1D, Conv1D, Dropout, Bidirectional\n",
    "from tensorflow.keras.preprocessing.sequence import pad_sequences\n",
    "from tensorflow.keras.preprocessing.text import Tokenizer\n",
    "from tensorflow.keras.callbacks import EarlyStopping, ReduceLROnPlateau\n",
    "from tensorflow.keras.utils import plot_model, to_categorical\n",
    "from tensorflow.keras.optimizers import Adam\n",
    "\n",
    "import warnings "
   ]
  },
  {
   "cell_type": "code",
   "execution_count": 3,
   "metadata": {
    "ExecuteTime": {
     "end_time": "2020-11-09T04:32:23.216883Z",
     "start_time": "2020-11-09T04:32:23.190555Z"
    }
   },
   "outputs": [],
   "source": [
    "pd.set_option('max_columns', 100)\n",
    "pd.set_option(\"display.precision\", 4)\n",
    "warnings.simplefilter('ignore')"
   ]
  },
  {
   "cell_type": "markdown",
   "metadata": {},
   "source": [
    "## 학습데이터 로드"
   ]
  },
  {
   "cell_type": "code",
   "execution_count": 4,
   "metadata": {
    "ExecuteTime": {
     "end_time": "2020-11-09T04:32:23.250120Z",
     "start_time": "2020-11-09T04:32:23.219024Z"
    }
   },
   "outputs": [],
   "source": [
    "data_dir = Path('../data/dacon-novel-author-classification')\n",
    "feature_dir = Path('../build/feature')\n",
    "val_dir = Path('../build/val')\n",
    "tst_dir = Path('../build/tst')\n",
    "sub_dir = Path('../build/sub')\n",
    "\n",
    "trn_file = data_dir / 'train.csv'\n",
    "tst_file = data_dir / 'test_x.csv'\n",
    "sample_file = data_dir / 'sample_submission.csv'\n",
    "\n",
    "target_col = 'author'\n",
    "n_fold = 5\n",
    "n_class = 5\n",
    "seed = 2020 "
   ]
  },
  {
   "cell_type": "code",
   "execution_count": 5,
   "metadata": {
    "ExecuteTime": {
     "end_time": "2020-11-09T04:32:23.282083Z",
     "start_time": "2020-11-09T04:32:23.252439Z"
    }
   },
   "outputs": [],
   "source": [
    "algo_name = 'mlp'\n",
    "feature_name = 'tfidf-pca' #학습할 피처- tfidf 피처를 pca한 데이터\n",
    "feature_target = 'feature_target'\n",
    "\n",
    "model_name = f'{algo_name}_{feature_name}'\n",
    "\n",
    "feature_file = feature_dir / f'{feature_name}.csv' #학습할 피처 가져오기\n",
    "feature_target_file = feature_dir / f'{feature_target}.csv' #target 데이터 가져오기\n",
    "\n",
    "p_val_ver7_file = val_dir / f'{model_name}_oof_pred_ver7.csv'\n",
    "p_tst_ver7_file = tst_dir / f'{model_name}_test_pred_ver7.csv'\n",
    "sub_ver7_file = sub_dir / f'{model_name}_ver7.csv'"
   ]
  },
  {
   "cell_type": "markdown",
   "metadata": {},
   "source": [
    "## 데이터 셋 불러오기"
   ]
  },
  {
   "cell_type": "code",
   "execution_count": 6,
   "metadata": {},
   "outputs": [],
   "source": [
    "X = pd.read_csv(feature_file, index_col=0).values\n",
    "y = pd.read_csv(feature_target_file,index_col=0).values\n",
    "\n",
    "X_7 = X[:54879]\n",
    "X_tst_7 = X[54879:]\n"
   ]
  },
  {
   "cell_type": "code",
   "execution_count": 7,
   "metadata": {},
   "outputs": [
    {
     "name": "stdout",
     "output_type": "stream",
     "text": [
      "(54879, 500)\n",
      "(19617, 500)\n",
      "<class 'numpy.ndarray'>\n"
     ]
    }
   ],
   "source": [
    "print(X_7.shape)\n",
    "print(X_tst_7.shape)\n",
    "print(type(X_7))"
   ]
  },
  {
   "cell_type": "markdown",
   "metadata": {
    "ExecuteTime": {
     "end_time": "2020-11-04T15:15:47.430701Z",
     "start_time": "2020-11-04T15:15:47.404265Z"
    }
   },
   "source": [
    "## mlp 모델 학습"
   ]
  },
  {
   "cell_type": "code",
   "execution_count": 8,
   "metadata": {
    "ExecuteTime": {
     "end_time": "2020-11-09T04:45:10.370865Z",
     "start_time": "2020-11-09T04:45:10.344734Z"
    }
   },
   "outputs": [],
   "source": [
    "cv = StratifiedKFold(n_splits=n_fold, shuffle=True, random_state=seed)"
   ]
  },
  {
   "cell_type": "code",
   "execution_count": 9,
   "metadata": {},
   "outputs": [],
   "source": [
    "def get_model(number):\n",
    "    inputs = Input(shape=(number,))\n",
    "    x = Dense(128, activation='relu')(inputs)\n",
    "    outputs = Dense(n_class, activation='softmax')(x)\n",
    "    model = Model(inputs=inputs, outputs=outputs)\n",
    "    model.compile(loss='categorical_crossentropy',\n",
    "                  optimizer='adam')\n",
    "    return model"
   ]
  },
  {
   "cell_type": "code",
   "execution_count": 10,
   "metadata": {
    "ExecuteTime": {
     "end_time": "2020-11-09T04:45:30.682036Z",
     "start_time": "2020-11-09T04:45:10.401772Z"
    }
   },
   "outputs": [
    {
     "name": "stdout",
     "output_type": "stream",
     "text": [
      "Training model for CV #1\n",
      "Epoch 1/10\n",
      "86/86 [==============================] - 1s 7ms/step - loss: 1.4803 - val_loss: 1.2990\n",
      "Epoch 2/10\n",
      "86/86 [==============================] - 0s 4ms/step - loss: 1.1005 - val_loss: 0.9587\n",
      "Epoch 3/10\n",
      "86/86 [==============================] - 0s 4ms/step - loss: 0.8697 - val_loss: 0.8391\n",
      "Epoch 4/10\n",
      "86/86 [==============================] - 0s 4ms/step - loss: 0.7923 - val_loss: 0.7999\n",
      "Epoch 5/10\n",
      "86/86 [==============================] - 0s 4ms/step - loss: 0.7626 - val_loss: 0.7845\n",
      "Epoch 6/10\n",
      "86/86 [==============================] - 0s 4ms/step - loss: 0.7479 - val_loss: 0.7774\n",
      "Epoch 7/10\n",
      "86/86 [==============================] - 0s 4ms/step - loss: 0.7392 - val_loss: 0.7722\n",
      "Epoch 8/10\n",
      "86/86 [==============================] - 0s 4ms/step - loss: 0.7332 - val_loss: 0.7698\n",
      "Epoch 9/10\n",
      "86/86 [==============================] - 0s 4ms/step - loss: 0.7288 - val_loss: 0.7659\n",
      "Epoch 10/10\n",
      "86/86 [==============================] - 0s 4ms/step - loss: 0.7248 - val_loss: 0.7651\n",
      "Training model for CV #2\n",
      "Epoch 1/10\n",
      "86/86 [==============================] - 0s 6ms/step - loss: 1.4675 - val_loss: 1.2842\n",
      "Epoch 2/10\n",
      "86/86 [==============================] - 0s 4ms/step - loss: 1.0868 - val_loss: 0.9514\n",
      "Epoch 3/10\n",
      "86/86 [==============================] - 0s 4ms/step - loss: 0.8633 - val_loss: 0.8376\n",
      "Epoch 4/10\n",
      "86/86 [==============================] - 0s 4ms/step - loss: 0.7886 - val_loss: 0.8021\n",
      "Epoch 5/10\n",
      "86/86 [==============================] - 0s 4ms/step - loss: 0.7597 - val_loss: 0.7874\n",
      "Epoch 6/10\n",
      "86/86 [==============================] - 0s 4ms/step - loss: 0.7457 - val_loss: 0.7805\n",
      "Epoch 7/10\n",
      "86/86 [==============================] - 0s 4ms/step - loss: 0.7372 - val_loss: 0.7777\n",
      "Epoch 8/10\n",
      "86/86 [==============================] - 0s 4ms/step - loss: 0.7317 - val_loss: 0.7748\n",
      "Epoch 9/10\n",
      "86/86 [==============================] - 0s 4ms/step - loss: 0.7274 - val_loss: 0.7726\n",
      "Epoch 10/10\n",
      "86/86 [==============================] - 0s 4ms/step - loss: 0.7235 - val_loss: 0.7706\n",
      "Training model for CV #3\n",
      "Epoch 1/10\n",
      "86/86 [==============================] - 0s 5ms/step - loss: 1.4755 - val_loss: 1.2876\n",
      "Epoch 2/10\n",
      "86/86 [==============================] - 0s 4ms/step - loss: 1.1015 - val_loss: 0.9415\n",
      "Epoch 3/10\n",
      "86/86 [==============================] - 0s 4ms/step - loss: 0.8752 - val_loss: 0.8185\n",
      "Epoch 4/10\n",
      "86/86 [==============================] - 0s 4ms/step - loss: 0.7978 - val_loss: 0.7792\n",
      "Epoch 5/10\n",
      "86/86 [==============================] - 0s 4ms/step - loss: 0.7686 - val_loss: 0.7621\n",
      "Epoch 6/10\n",
      "86/86 [==============================] - 0s 4ms/step - loss: 0.7543 - val_loss: 0.7534\n",
      "Epoch 7/10\n",
      "86/86 [==============================] - 0s 4ms/step - loss: 0.7461 - val_loss: 0.7502\n",
      "Epoch 8/10\n",
      "86/86 [==============================] - 0s 4ms/step - loss: 0.7404 - val_loss: 0.7456\n",
      "Epoch 9/10\n",
      "86/86 [==============================] - 0s 4ms/step - loss: 0.7360 - val_loss: 0.7430\n",
      "Epoch 10/10\n",
      "86/86 [==============================] - 0s 4ms/step - loss: 0.7322 - val_loss: 0.7411\n",
      "Training model for CV #4\n",
      "Epoch 1/10\n",
      "86/86 [==============================] - 0s 5ms/step - loss: 1.4697 - val_loss: 1.2917\n",
      "Epoch 2/10\n",
      "86/86 [==============================] - 0s 4ms/step - loss: 1.0926 - val_loss: 0.9567\n",
      "Epoch 3/10\n",
      "86/86 [==============================] - 0s 4ms/step - loss: 0.8667 - val_loss: 0.8365\n",
      "Epoch 4/10\n",
      "86/86 [==============================] - 0s 4ms/step - loss: 0.7912 - val_loss: 0.7975\n",
      "Epoch 5/10\n",
      "86/86 [==============================] - 0s 4ms/step - loss: 0.7627 - val_loss: 0.7807\n",
      "Epoch 6/10\n",
      "86/86 [==============================] - 0s 3ms/step - loss: 0.7484 - val_loss: 0.7731\n",
      "Epoch 7/10\n",
      "86/86 [==============================] - 0s 4ms/step - loss: 0.7398 - val_loss: 0.7692\n",
      "Epoch 8/10\n",
      "86/86 [==============================] - 0s 4ms/step - loss: 0.7337 - val_loss: 0.7665\n",
      "Epoch 9/10\n",
      "86/86 [==============================] - 0s 3ms/step - loss: 0.7294 - val_loss: 0.7635\n",
      "Epoch 10/10\n",
      "86/86 [==============================] - 0s 4ms/step - loss: 0.7251 - val_loss: 0.7617\n",
      "Training model for CV #5\n",
      "Epoch 1/10\n",
      "86/86 [==============================] - 0s 5ms/step - loss: 1.4767 - val_loss: 1.2923\n",
      "Epoch 2/10\n",
      "86/86 [==============================] - 0s 3ms/step - loss: 1.0924 - val_loss: 0.9478\n",
      "Epoch 3/10\n",
      "86/86 [==============================] - 0s 4ms/step - loss: 0.8643 - val_loss: 0.8355\n",
      "Epoch 4/10\n",
      "86/86 [==============================] - 0s 4ms/step - loss: 0.7894 - val_loss: 0.7996\n",
      "Epoch 5/10\n",
      "86/86 [==============================] - 0s 4ms/step - loss: 0.7606 - val_loss: 0.7859\n",
      "Epoch 6/10\n",
      "86/86 [==============================] - 0s 4ms/step - loss: 0.7461 - val_loss: 0.7796\n",
      "Epoch 7/10\n",
      "86/86 [==============================] - 0s 4ms/step - loss: 0.7381 - val_loss: 0.7755\n",
      "Epoch 8/10\n",
      "86/86 [==============================] - 0s 4ms/step - loss: 0.7322 - val_loss: 0.7736\n",
      "Epoch 9/10\n",
      "86/86 [==============================] - 0s 3ms/step - loss: 0.7277 - val_loss: 0.7728\n",
      "Epoch 10/10\n",
      "86/86 [==============================] - 0s 4ms/step - loss: 0.7236 - val_loss: 0.7704\n",
      "Training has finished\n",
      "****************************************************************************************************\n",
      "lr Ver7 Accuracy (CV):  71.5848%\n"
     ]
    },
    {
     "ename": "Exception",
     "evalue": "Data must be 1-dimensional",
     "output_type": "error",
     "traceback": [
      "\u001b[0;31m---------------------------------------------------------------------------\u001b[0m",
      "\u001b[0;31mException\u001b[0m                                 Traceback (most recent call last)",
      "\u001b[0;32m<ipython-input-10-b9f4a35548f0>\u001b[0m in \u001b[0;36m<module>\u001b[0;34m\u001b[0m\n\u001b[1;32m     31\u001b[0m \u001b[0;34m\u001b[0m\u001b[0m\n\u001b[1;32m     32\u001b[0m \u001b[0mprint\u001b[0m\u001b[0;34m(\u001b[0m\u001b[0;34mf'lr Ver7 Accuracy (CV): {accuracy_score(y, np.argmax(p_val_ver7, axis=1)) * 100:8.4f}%'\u001b[0m\u001b[0;34m)\u001b[0m\u001b[0;34m\u001b[0m\u001b[0;34m\u001b[0m\u001b[0m\n\u001b[0;32m---> 33\u001b[0;31m \u001b[0mprint\u001b[0m\u001b[0;34m(\u001b[0m\u001b[0;34mf'lr Ver7 Log Loss (CV): {log_loss(pd.get_dummies(y), p_val_ver7):8.4f}'\u001b[0m\u001b[0;34m)\u001b[0m\u001b[0;34m\u001b[0m\u001b[0;34m\u001b[0m\u001b[0m\n\u001b[0m",
      "\u001b[0;32m/usr/local/lib/python3.6/dist-packages/pandas/core/reshape/reshape.py\u001b[0m in \u001b[0;36mget_dummies\u001b[0;34m(data, prefix, prefix_sep, dummy_na, columns, sparse, drop_first, dtype)\u001b[0m\n\u001b[1;32m    906\u001b[0m             \u001b[0msparse\u001b[0m\u001b[0;34m=\u001b[0m\u001b[0msparse\u001b[0m\u001b[0;34m,\u001b[0m\u001b[0;34m\u001b[0m\u001b[0;34m\u001b[0m\u001b[0m\n\u001b[1;32m    907\u001b[0m             \u001b[0mdrop_first\u001b[0m\u001b[0;34m=\u001b[0m\u001b[0mdrop_first\u001b[0m\u001b[0;34m,\u001b[0m\u001b[0;34m\u001b[0m\u001b[0;34m\u001b[0m\u001b[0m\n\u001b[0;32m--> 908\u001b[0;31m             \u001b[0mdtype\u001b[0m\u001b[0;34m=\u001b[0m\u001b[0mdtype\u001b[0m\u001b[0;34m,\u001b[0m\u001b[0;34m\u001b[0m\u001b[0;34m\u001b[0m\u001b[0m\n\u001b[0m\u001b[1;32m    909\u001b[0m         )\n\u001b[1;32m    910\u001b[0m     \u001b[0;32mreturn\u001b[0m \u001b[0mresult\u001b[0m\u001b[0;34m\u001b[0m\u001b[0;34m\u001b[0m\u001b[0m\n",
      "\u001b[0;32m/usr/local/lib/python3.6/dist-packages/pandas/core/reshape/reshape.py\u001b[0m in \u001b[0;36m_get_dummies_1d\u001b[0;34m(data, prefix, prefix_sep, dummy_na, sparse, drop_first, dtype)\u001b[0m\n\u001b[1;32m    923\u001b[0m \u001b[0;34m\u001b[0m\u001b[0m\n\u001b[1;32m    924\u001b[0m     \u001b[0;31m# Series avoids inconsistent NaN handling\u001b[0m\u001b[0;34m\u001b[0m\u001b[0;34m\u001b[0m\u001b[0;34m\u001b[0m\u001b[0m\n\u001b[0;32m--> 925\u001b[0;31m     \u001b[0mcodes\u001b[0m\u001b[0;34m,\u001b[0m \u001b[0mlevels\u001b[0m \u001b[0;34m=\u001b[0m \u001b[0mfactorize_from_iterable\u001b[0m\u001b[0;34m(\u001b[0m\u001b[0mSeries\u001b[0m\u001b[0;34m(\u001b[0m\u001b[0mdata\u001b[0m\u001b[0;34m)\u001b[0m\u001b[0;34m)\u001b[0m\u001b[0;34m\u001b[0m\u001b[0;34m\u001b[0m\u001b[0m\n\u001b[0m\u001b[1;32m    926\u001b[0m \u001b[0;34m\u001b[0m\u001b[0m\n\u001b[1;32m    927\u001b[0m     \u001b[0;32mif\u001b[0m \u001b[0mdtype\u001b[0m \u001b[0;32mis\u001b[0m \u001b[0;32mNone\u001b[0m\u001b[0;34m:\u001b[0m\u001b[0;34m\u001b[0m\u001b[0;34m\u001b[0m\u001b[0m\n",
      "\u001b[0;32m/usr/local/lib/python3.6/dist-packages/pandas/core/series.py\u001b[0m in \u001b[0;36m__init__\u001b[0;34m(self, data, index, dtype, name, copy, fastpath)\u001b[0m\n\u001b[1;32m    325\u001b[0m                     \u001b[0mdata\u001b[0m \u001b[0;34m=\u001b[0m \u001b[0mdata\u001b[0m\u001b[0;34m.\u001b[0m\u001b[0mcopy\u001b[0m\u001b[0;34m(\u001b[0m\u001b[0;34m)\u001b[0m\u001b[0;34m\u001b[0m\u001b[0;34m\u001b[0m\u001b[0m\n\u001b[1;32m    326\u001b[0m             \u001b[0;32melse\u001b[0m\u001b[0;34m:\u001b[0m\u001b[0;34m\u001b[0m\u001b[0;34m\u001b[0m\u001b[0m\n\u001b[0;32m--> 327\u001b[0;31m                 \u001b[0mdata\u001b[0m \u001b[0;34m=\u001b[0m \u001b[0msanitize_array\u001b[0m\u001b[0;34m(\u001b[0m\u001b[0mdata\u001b[0m\u001b[0;34m,\u001b[0m \u001b[0mindex\u001b[0m\u001b[0;34m,\u001b[0m \u001b[0mdtype\u001b[0m\u001b[0;34m,\u001b[0m \u001b[0mcopy\u001b[0m\u001b[0;34m,\u001b[0m \u001b[0mraise_cast_failure\u001b[0m\u001b[0;34m=\u001b[0m\u001b[0;32mTrue\u001b[0m\u001b[0;34m)\u001b[0m\u001b[0;34m\u001b[0m\u001b[0;34m\u001b[0m\u001b[0m\n\u001b[0m\u001b[1;32m    328\u001b[0m \u001b[0;34m\u001b[0m\u001b[0m\n\u001b[1;32m    329\u001b[0m                 \u001b[0mdata\u001b[0m \u001b[0;34m=\u001b[0m \u001b[0mSingleBlockManager\u001b[0m\u001b[0;34m.\u001b[0m\u001b[0mfrom_array\u001b[0m\u001b[0;34m(\u001b[0m\u001b[0mdata\u001b[0m\u001b[0;34m,\u001b[0m \u001b[0mindex\u001b[0m\u001b[0;34m)\u001b[0m\u001b[0;34m\u001b[0m\u001b[0;34m\u001b[0m\u001b[0m\n",
      "\u001b[0;32m/usr/local/lib/python3.6/dist-packages/pandas/core/construction.py\u001b[0m in \u001b[0;36msanitize_array\u001b[0;34m(data, index, dtype, copy, raise_cast_failure)\u001b[0m\n\u001b[1;32m    494\u001b[0m     \u001b[0;32melif\u001b[0m \u001b[0msubarr\u001b[0m\u001b[0;34m.\u001b[0m\u001b[0mndim\u001b[0m \u001b[0;34m>\u001b[0m \u001b[0;36m1\u001b[0m\u001b[0;34m:\u001b[0m\u001b[0;34m\u001b[0m\u001b[0;34m\u001b[0m\u001b[0m\n\u001b[1;32m    495\u001b[0m         \u001b[0;32mif\u001b[0m \u001b[0misinstance\u001b[0m\u001b[0;34m(\u001b[0m\u001b[0mdata\u001b[0m\u001b[0;34m,\u001b[0m \u001b[0mnp\u001b[0m\u001b[0;34m.\u001b[0m\u001b[0mndarray\u001b[0m\u001b[0;34m)\u001b[0m\u001b[0;34m:\u001b[0m\u001b[0;34m\u001b[0m\u001b[0;34m\u001b[0m\u001b[0m\n\u001b[0;32m--> 496\u001b[0;31m             \u001b[0;32mraise\u001b[0m \u001b[0mException\u001b[0m\u001b[0;34m(\u001b[0m\u001b[0;34m\"Data must be 1-dimensional\"\u001b[0m\u001b[0;34m)\u001b[0m\u001b[0;34m\u001b[0m\u001b[0;34m\u001b[0m\u001b[0m\n\u001b[0m\u001b[1;32m    497\u001b[0m         \u001b[0;32melse\u001b[0m\u001b[0;34m:\u001b[0m\u001b[0;34m\u001b[0m\u001b[0;34m\u001b[0m\u001b[0m\n\u001b[1;32m    498\u001b[0m             \u001b[0msubarr\u001b[0m \u001b[0;34m=\u001b[0m \u001b[0mcom\u001b[0m\u001b[0;34m.\u001b[0m\u001b[0masarray_tuplesafe\u001b[0m\u001b[0;34m(\u001b[0m\u001b[0mdata\u001b[0m\u001b[0;34m,\u001b[0m \u001b[0mdtype\u001b[0m\u001b[0;34m=\u001b[0m\u001b[0mdtype\u001b[0m\u001b[0;34m)\u001b[0m\u001b[0;34m\u001b[0m\u001b[0;34m\u001b[0m\u001b[0m\n",
      "\u001b[0;31mException\u001b[0m: Data must be 1-dimensional"
     ]
    }
   ],
   "source": [
    "p_val_ver7 = np.zeros((X_7.shape[0], n_class))\n",
    "p_tst_ver7 = np.zeros((X_tst_7.shape[0], n_class))\n",
    "\n",
    "for X, test in [(X_7, X_tst_7)]:  \n",
    "    for i_cv, (i_trn, i_val) in enumerate(cv.split(X, y), 1):\n",
    "        print(f'Training model for CV #{i_cv}')\n",
    "        \n",
    "        es = EarlyStopping(monitor='val_loss', min_delta=0.001, patience=3,\n",
    "                       verbose=1, mode='min', baseline=None, restore_best_weights=True)\n",
    "        \n",
    "        clf = get_model(X.shape[1])\n",
    "        clf.fit(X[i_trn], \n",
    "            to_categorical(y[i_trn]),\n",
    "            validation_data=(X[i_val], to_categorical(y[i_val])),\n",
    "            epochs=10,\n",
    "            batch_size=512,\n",
    "            callbacks=[es])\n",
    "       \n",
    "        # Predict\n",
    "        if X.shape[1]==500:\n",
    "            p_val_ver7[i_val, :] = clf.predict(X[i_val])\n",
    "            p_tst_ver7 += clf.predict(test) / n_class\n",
    "            \n",
    "        del clf\n",
    "        clear_session()\n",
    "        gc.collect()\n",
    "            \n",
    "    print(\"Training has finished\")\n",
    "    print(\"*\"*100)\n",
    "\n",
    "            \n",
    "print(f'lr Ver7 Accuracy (CV): {accuracy_score(y, np.argmax(p_val_ver7, axis=1)) * 100:8.4f}%')\n",
    "print(f'lr Ver7 Log Loss (CV): {log_loss(pd.get_dummies(y), p_val_ver7):8.4f}')\n"
   ]
  },
  {
   "cell_type": "markdown",
   "metadata": {},
   "source": [
    "## 제출 파일 생성 및 기타 파일 생성"
   ]
  },
  {
   "cell_type": "code",
   "execution_count": null,
   "metadata": {},
   "outputs": [],
   "source": [
    "# submission 파일 생성\n",
    "\n",
    "sub = pd.read_csv(sample_file, index_col=0)\n",
    "\n",
    "# Ver1\n",
    "sub[sub.columns] = p_tst_ver7\n",
    "sub.to_csv(sub_ver7_file)\n"
   ]
  },
  {
   "cell_type": "code",
   "execution_count": null,
   "metadata": {
    "ExecuteTime": {
     "end_time": "2020-11-09T04:45:31.272596Z",
     "start_time": "2020-11-09T04:45:31.074976Z"
    }
   },
   "outputs": [],
   "source": [
    "# p_val 파일 생성 -> oof\n",
    "\n",
    "# Ver1\n",
    "np.savetxt(p_val_ver7_file, p_val_ver7, fmt='%.18f', delimiter=',')\n",
    "\n"
   ]
  },
  {
   "cell_type": "code",
   "execution_count": null,
   "metadata": {},
   "outputs": [],
   "source": [
    "# p_tst 파일 생성 -> test \n",
    "\n",
    "# Ver1\n",
    "np.savetxt(p_tst_ver7_file, p_tst_ver7, fmt='%.18f', delimiter=',')\n",
    "\n"
   ]
  },
  {
   "cell_type": "code",
   "execution_count": null,
   "metadata": {},
   "outputs": [],
   "source": []
  },
  {
   "cell_type": "code",
   "execution_count": null,
   "metadata": {},
   "outputs": [],
   "source": []
  }
 ],
 "metadata": {
  "kernelspec": {
   "display_name": "Python 3",
   "language": "python",
   "name": "python3"
  },
  "language_info": {
   "codemirror_mode": {
    "name": "ipython",
    "version": 3
   },
   "file_extension": ".py",
   "mimetype": "text/x-python",
   "name": "python",
   "nbconvert_exporter": "python",
   "pygments_lexer": "ipython3",
   "version": "3.6.9"
  },
  "toc": {
   "base_numbering": 1,
   "nav_menu": {},
   "number_sections": true,
   "sideBar": true,
   "skip_h1_title": true,
   "title_cell": "Table of Contents",
   "title_sidebar": "Contents",
   "toc_cell": false,
   "toc_position": {
    "height": "calc(100% - 180px)",
    "left": "10px",
    "top": "150px",
    "width": "222px"
   },
   "toc_section_display": true,
   "toc_window_display": true
  }
 },
 "nbformat": 4,
 "nbformat_minor": 4
}
